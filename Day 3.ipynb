{
 "cells": [
  {
   "cell_type": "markdown",
   "metadata": {},
   "source": [
    "## Part 1"
   ]
  },
  {
   "cell_type": "code",
   "execution_count": 1,
   "metadata": {},
   "outputs": [],
   "source": [
    "import numpy as np"
   ]
  },
  {
   "cell_type": "code",
   "execution_count": 2,
   "metadata": {},
   "outputs": [
    {
     "data": {
      "text/plain": [
       "array(['........#.............#........',\n",
       "       '...#....#...#....#.............',\n",
       "       '.#..#...#............#.....#..#',\n",
       "       '..#......#..##............###..',\n",
       "       '..........#......#..#..#.......',\n",
       "       '.#..#.......#.........#.#......',\n",
       "       '.........#..#....##..#.##....#.',\n",
       "       '..#....##...#..................'], dtype='<U31')"
      ]
     },
     "execution_count": 2,
     "metadata": {},
     "output_type": "execute_result"
    }
   ],
   "source": [
    "grid = np.loadtxt('input.txt', dtype=str, comments='//')\n",
    "grid[:8]"
   ]
  },
  {
   "cell_type": "code",
   "execution_count": 3,
   "metadata": {},
   "outputs": [],
   "source": [
    "def traverse_forest(x, y, dx, dy, grid):\n",
    "    x += dx\n",
    "    y += dy\n",
    "    \n",
    "    cell = grid[y][x % len(grid[y])]\n",
    "    \n",
    "    return x, y, cell"
   ]
  },
  {
   "cell_type": "code",
   "execution_count": 4,
   "metadata": {},
   "outputs": [
    {
     "name": "stdout",
     "output_type": "stream",
     "text": [
      "#.#..#.######.###..####.#..##...###..#....###......#.....###..#.######.#....#..##......##....#..#.....#..###..#.#......#..#...###.#..###.#....##..#.#####.#....#.#.#.##.##....#.#..###..##.#...#....#.##.####.#.##.##....#.##.###..#.###.#....#..#.##....#.##.#.#..###.#..##...#..###..#.........####..#.#..#########...#.#..##... tree_count: 148\n"
     ]
    }
   ],
   "source": [
    "x = 0\n",
    "y = 0\n",
    "dx = 3\n",
    "dy = 1\n",
    "tree_count = 0\n",
    "\n",
    "while (y < len(grid)-1):\n",
    "    x, y, cell = traverse_forest(x, y, dx, dy, grid)\n",
    "    print(cell, end = '')\n",
    "    if cell == '#': tree_count += 1\n",
    "        \n",
    "print(' tree_count:', tree_count)"
   ]
  },
  {
   "cell_type": "markdown",
   "metadata": {},
   "source": [
    "## Part 2"
   ]
  },
  {
   "cell_type": "code",
   "execution_count": 5,
   "metadata": {},
   "outputs": [
    {
     "name": "stdout",
     "output_type": "stream",
     "text": [
      "1, 1\n",
      "tree_count: 50\n",
      "3, 1\n",
      "tree_count: 148\n",
      "5, 1\n",
      "tree_count: 53\n",
      "7, 1\n",
      "tree_count: 64\n",
      "1, 2\n",
      "tree_count: 29\n",
      "Product of all tree counts = 727923200\n"
     ]
    }
   ],
   "source": [
    "#Right 1, down 1.\n",
    "#Right 3, down 1. (This is the slope you already checked.)\n",
    "#Right 5, down 1.\n",
    "#Right 7, down 1.\n",
    "#Right 1, down 2.\n",
    "\n",
    "trajectories = [(1, 1), (3, 1), (5, 1), (7, 1), (1, 2)]\n",
    "tree_counts = []\n",
    "\n",
    "for dx, dy in trajectories:\n",
    "    print('{}, {}'.format(dx, dy))\n",
    "    x = 0\n",
    "    y = 0\n",
    "    tree_count = 0\n",
    "\n",
    "    while (y < len(grid)-1):\n",
    "        x, y, cell = traverse_forest(x, y, dx, dy, grid)\n",
    "        if cell == '#': tree_count += 1\n",
    "\n",
    "    print('tree_count:', tree_count)\n",
    "    tree_counts.append(tree_count)\n",
    "    \n",
    "print('Product of all tree counts =', np.prod(tree_counts))"
   ]
  }
 ],
 "metadata": {
  "kernelspec": {
   "display_name": "Python 3",
   "language": "python",
   "name": "python3"
  },
  "language_info": {
   "codemirror_mode": {
    "name": "ipython",
    "version": 3
   },
   "file_extension": ".py",
   "mimetype": "text/x-python",
   "name": "python",
   "nbconvert_exporter": "python",
   "pygments_lexer": "ipython3",
   "version": "3.7.7"
  }
 },
 "nbformat": 4,
 "nbformat_minor": 4
}
