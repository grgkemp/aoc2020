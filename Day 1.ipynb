{
 "cells": [
  {
   "cell_type": "code",
   "execution_count": 1,
   "metadata": {},
   "outputs": [],
   "source": [
    "import numpy as np\n",
    "lines = np.loadtxt(\"input.txt\", dtype=int)"
   ]
  },
  {
   "cell_type": "code",
   "execution_count": 2,
   "metadata": {},
   "outputs": [
    {
     "name": "stdout",
     "output_type": "stream",
     "text": [
      "[1844 1123 1490 1478 1108 1120 1594 1101 1831 1146 1084 1535 1016 1722\n",
      " 1388 1188 1351 1477 1215 1678 1159 1558 1581 1400 1550 1306 1852 1745\n",
      " 1224 1896 1596 1005 1499 1797  976 1777 1129 1601 1058 1510 1704 1818\n",
      " 1795 1364 1276 1362 1801 1985 1421 1311 1855 1977 1613 1951 2001 1327\n",
      " 1872 1517 1040 1692 1595 1769 1956 1763 1470 1898 1366 1443  312 1685\n",
      " 1014 1409 1717 1105 1290 1703 1732 1939 1790 1164 1225 1474 1713 1413\n",
      " 1906 1488 1931 1702 1848 1668 1737 1614 1719 1647 1171 1508 1035 1133\n",
      " 1179 1180 1472 1414 1659 1820 1544 1697 1175 1033 1805 1576 1196 1597\n",
      " 1739 1291 1103 1457 1514 1462 1619 1683 1338 1604 1372 1653   16 1725\n",
      " 1181 1952 1201 1531 1505 1912 1527 1853 1905 1833 1913 1131 1069 1537\n",
      " 1754 1551 1435 1914 1093 1273 1726 1094 1439 1689 1607 1646 1588 1698\n",
      " 1539 1493 1352 1163 1482 1044 1523 1142 1253 1250 1986 1049 1330 1219\n",
      " 1162 1088 1100 1532 1727 1761 1107 1916 1220 1319 1098 1431 1260 1642\n",
      " 1269 1102 1432 1267 1824 1658 1149 1024 1963 1498 1904 1812 1600 1773\n",
      " 1283 1463 1776 1406]\n"
     ]
    }
   ],
   "source": [
    "print(lines)"
   ]
  },
  {
   "cell_type": "markdown",
   "metadata": {},
   "source": [
    "### Part 1"
   ]
  },
  {
   "cell_type": "code",
   "execution_count": 3,
   "metadata": {},
   "outputs": [
    {
     "name": "stdout",
     "output_type": "stream",
     "text": [
      "1044\n",
      "976\n"
     ]
    }
   ],
   "source": [
    "sumdict = {}\n",
    "for a in lines:\n",
    "    if a in sumdict:\n",
    "        print(a)\n",
    "        print(sumdict[a])\n",
    "    else:\n",
    "        sumdict[2020-a] = a"
   ]
  },
  {
   "cell_type": "code",
   "execution_count": 4,
   "metadata": {},
   "outputs": [
    {
     "data": {
      "text/plain": [
       "1018944"
      ]
     },
     "execution_count": 4,
     "metadata": {},
     "output_type": "execute_result"
    }
   ],
   "source": [
    "1044 * 976"
   ]
  },
  {
   "cell_type": "markdown",
   "metadata": {},
   "source": [
    "### Part 2"
   ]
  },
  {
   "cell_type": "code",
   "execution_count": 5,
   "metadata": {},
   "outputs": [
    {
     "name": "stdout",
     "output_type": "stream",
     "text": [
      "[1692  312   16]\n",
      "2020\n",
      "8446464\n"
     ]
    }
   ],
   "source": [
    "# get 3d array from outer sum of lines 3x\n",
    "pairs = np.add.outer(lines, lines)\n",
    "triples = np.add.outer(lines, pairs)\n",
    "\n",
    "indexes = np.argwhere(triples==2020)[0]\n",
    "\n",
    "print(lines[indexes])\n",
    "print(sum(lines[indexes]))\n",
    "print(np.prod(lines[indexes]))"
   ]
  }
 ],
 "metadata": {
  "kernelspec": {
   "display_name": "Python 3",
   "language": "python",
   "name": "python3"
  },
  "language_info": {
   "codemirror_mode": {
    "name": "ipython",
    "version": 3
   },
   "file_extension": ".py",
   "mimetype": "text/x-python",
   "name": "python",
   "nbconvert_exporter": "python",
   "pygments_lexer": "ipython3",
   "version": "3.7.7"
  }
 },
 "nbformat": 4,
 "nbformat_minor": 4
}
