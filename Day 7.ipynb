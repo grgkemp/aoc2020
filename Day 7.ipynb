{
 "cells": [
  {
   "cell_type": "markdown",
   "metadata": {},
   "source": [
    "## Part 1"
   ]
  },
  {
   "cell_type": "code",
   "execution_count": 31,
   "metadata": {},
   "outputs": [
    {
     "name": "stdout",
     "output_type": "stream",
     "text": [
      "{'striped orange': {'vibrant green': 1, 'plaid yellow': 5, 'drab magenta': 1}, 'dark fuchsia': {'wavy indigo': 3, 'striped lime': 4}, 'clear maroon': {'clear gold': 2, 'bright salmon': 5, 'wavy tomato': 5}, 'faded tan': {'dim brown': 4}, 'wavy olive': {'faded gray': 3, 'posh brown': 2, 'striped cyan': 3}, 'light plum': {'vibrant plum': 4}, 'vibrant cyan': {'dotted gold': 4, 'bright indigo': 4, 'wavy lime': 4, 'clear plum': 3}, 'vibrant beige': {'wavy silver': 1, 'shiny indigo': 4, 'wavy aqua': 2, 'mirrored cyan': 1}, 'light tomato': {'muted green': 5, 'striped tomato': 2, 'faded aqua': 4, 'muted salmon': 2}, 'drab white': {'faded beige': 5, 'light purple': 1, 'striped white': 1, 'muted cyan': 4}, 'faded purple': {'posh lime': 5}, 'striped violet': {'dim bronze': 1, 'faded plum': 2}, 'pale teal': {'shiny salmon': 2, 'light tomato': 2, 'dim coral': 5}, 'dull lime': {'bright tomato': 3, 'dim magenta': 3, 'bright cyan': 3, 'dark teal': 2}, 'dim salmon': {'dark chartreuse': 3}, 'faded teal': {'shiny coral': 2, 'dark turquoise': 4, 'wavy black': 3}, 'dark green': {'vibrant green': 5, 'clear blue': 4}, 'dim black': {'vibrant bronze': 2}, 'light yellow': {'faded salmon': 2, 'muted aqua': 4}, 'drab brown': {'clear green': 3, 'pale aqua': 2}, 'dotted tomato': {'vibrant purple': 3, 'vibrant tomato': 3, 'clear lime': 3, 'dim gold': 5}, 'faded orange': {'pale brown': 1}, 'light black': {'striped silver': 1, 'dim brown': 3, 'bright cyan': 2, 'striped lime': 3}, 'plaid turquoise': {'muted fuchsia': 5, 'dull violet': 1}, 'light lime': {'clear lime': 1, 'wavy blue': 5}, 'plaid blue': {'dotted blue': 2, 'light brown': 5, 'posh teal': 5}, 'vibrant maroon': {'bright lavender': 2}, 'light orange': {'wavy magenta': 1, 'clear orange': 3, 'striped silver': 4}, 'bright beige': {'plaid red': 2, 'dull aqua': 1, 'bright fuchsia': 3}, 'striped crimson': {'faded maroon': 3, 'dull chartreuse': 3, 'mirrored red': 4, 'clear orange': 4}, 'posh silver': {'pale plum': 3, 'light salmon': 4, 'light purple': 5}, 'dull white': {'dark white': 2}, 'bright lime': {'clear indigo': 4, 'vibrant green': 2}, 'bright crimson': {'light lime': 3}, 'dull lavender': {'vibrant magenta': 3}, 'pale purple': {}, 'vibrant coral': {'bright cyan': 3, 'bright tomato': 2}, 'posh salmon': {'vibrant magenta': 4, 'dull aqua': 3}, 'dull black': {'dotted black': 4}, 'shiny salmon': {'faded plum': 2, 'clear lavender': 5, 'light crimson': 1, 'light gray': 2}, 'vibrant red': {'dim bronze': 3, 'striped indigo': 1, 'vibrant silver': 1}, 'plaid beige': {'posh purple': 1, 'pale bronze': 5, 'dotted white': 1}, 'striped bronze': {'wavy salmon': 1}, 'shiny lavender': {'shiny salmon': 2, 'bright salmon': 2, 'posh fuchsia': 4}, 'plaid chartreuse': {'vibrant bronze': 2, 'dull chartreuse': 1, 'wavy tomato': 3}, 'bright chartreuse': {}, 'wavy white': {'dim blue': 2, 'faded silver': 5, 'shiny silver': 5, 'shiny beige': 2}, 'drab beige': {'wavy tomato': 5}, 'mirrored teal': {'muted lavender': 5, 'dull chartreuse': 4}, 'dotted bronze': {'clear magenta': 1, 'muted silver': 2, 'muted cyan': 5}, 'dim red': {'shiny fuchsia': 5, 'dotted white': 3}, 'shiny crimson': {'dull white': 2, 'vibrant maroon': 2}, 'wavy plum': {'light crimson': 5, 'clear green': 4}, 'faded olive': {'posh cyan': 5}, 'mirrored gold': {'striped gold': 5}, 'dim cyan': {'shiny green': 5, 'wavy blue': 5, 'mirrored lime': 3, 'dark plum': 4}, 'vibrant orange': {'mirrored lime': 2, 'bright chartreuse': 1, 'pale crimson': 3, 'muted beige': 4}, 'pale beige': {'dull olive': 5}, 'posh lavender': {'faded red': 1, 'wavy maroon': 2}, 'plaid teal': {'dull black': 3, 'muted tan': 5}, 'wavy red': {'posh salmon': 1, 'light black': 1, 'drab olive': 2, 'drab beige': 4}, 'drab maroon': {'bright yellow': 5}, 'clear tan': {'light yellow': 1, 'mirrored indigo': 2, 'dotted olive': 2, 'dim magenta': 3}, 'striped turquoise': {'posh cyan': 1, 'clear crimson': 1}, 'posh turquoise': {'bright bronze': 3, 'bright orange': 5}, 'dark turquoise': {'posh yellow': 3, 'dull red': 4, 'plaid silver': 5, 'bright tomato': 3}, 'posh green': {'wavy bronze': 2}, 'muted green': {'bright fuchsia': 2, 'muted gold': 2, 'light orange': 3}, 'drab salmon': {'light black': 3}, 'dotted coral': {'pale chartreuse': 4}, 'dark yellow': {'faded red': 5, 'pale brown': 5}, 'muted teal': {'clear gold': 1, 'striped tomato': 5, 'dark teal': 2}, 'bright silver': {'bright gray': 2}, 'drab chartreuse': {'pale teal': 5}, 'muted plum': {'posh white': 3, 'bright red': 1, 'striped gold': 5}, 'dark bronze': {'bright cyan': 2, 'dim beige': 1, 'pale bronze': 1, 'light gray': 3}, 'dim fuchsia': {'dark black': 3, 'mirrored chartreuse': 3, 'faded gray': 3}, 'faded brown': {'wavy white': 3, 'dull violet': 1}, 'bright green': {'vibrant fuchsia': 4, 'shiny white': 2, 'mirrored blue': 3, 'posh aqua': 4}, 'dotted turquoise': {'shiny beige': 1, 'wavy blue': 3}, 'wavy chartreuse': {'dark plum': 5}, 'shiny orange': {'clear orange': 4, 'dark coral': 4, 'bright teal': 2, 'dotted brown': 5}, 'shiny gray': {'dull olive': 3, 'muted aqua': 3}, 'clear blue': {'bright salmon': 5, 'shiny gold': 2}, 'vibrant olive': {'bright salmon': 5, 'muted green': 1, 'wavy olive': 4}, 'muted gold': {'striped plum': 3, 'dull violet': 4, 'shiny green': 1}, 'plaid aqua': {'shiny purple': 4, 'wavy lime': 1, 'striped violet': 3, 'clear magenta': 4}, 'dim bronze': {}, 'vibrant turquoise': {'wavy plum': 5}, 'light teal': {'clear plum': 4, 'drab crimson': 2}, 'light coral': {'drab violet': 1, 'light yellow': 3, 'faded maroon': 2}, 'bright cyan': {'dim crimson': 5, 'striped plum': 3, 'muted gold': 2}, 'wavy purple': {'vibrant tomato': 4, 'dull bronze': 4, 'dim coral': 1}, 'dull tan': {'muted fuchsia': 5}, 'bright white': {'pale blue': 5}, 'clear plum': {'muted lavender': 2, 'faded aqua': 1, 'faded plum': 1, 'dull indigo': 3}, 'vibrant tomato': {'posh purple': 1, 'mirrored lime': 5, 'vibrant turquoise': 3, 'clear maroon': 4}, 'muted tan': {'dim magenta': 2, 'dotted gray': 4, 'plaid orange': 4, 'pale green': 2}, 'dark brown': {'striped plum': 5, 'mirrored tomato': 2, 'faded plum': 4, 'light yellow': 3}, 'striped yellow': {'muted indigo': 5, 'bright black': 4, 'clear lime': 3, 'striped white': 1}, 'posh black': {'mirrored tomato': 2, 'posh gray': 4}, 'wavy black': {'pale orange': 5, 'posh violet': 3, 'dotted white': 2, 'faded red': 2}, 'muted indigo': {'bright fuchsia': 2, 'muted lavender': 4}, 'bright coral': {'posh chartreuse': 1, 'shiny gold': 2}, 'posh tomato': {'light violet': 4, 'mirrored olive': 1}, 'posh cyan': {'mirrored chartreuse': 2, 'dotted black': 4, 'vibrant gray': 5}, 'pale silver': {'light fuchsia': 1, 'dark red': 4}, 'plaid indigo': {'plaid red': 4, 'striped cyan': 3, 'muted silver': 1, 'wavy magenta': 2}, 'dotted indigo': {'mirrored magenta': 1, 'plaid gold': 4, 'dark coral': 3, 'vibrant silver': 2}, 'light chartreuse': {'shiny blue': 5, 'drab coral': 5, 'drab turquoise': 4}, 'pale tomato': {'wavy violet': 3, 'dotted tan': 3, 'drab brown': 4}, 'muted chartreuse': {'dim silver': 3, 'dim chartreuse': 1, 'striped green': 3, 'dim magenta': 3}, 'dull aqua': {'pale crimson': 3, 'drab aqua': 2, 'drab magenta': 5, 'clear gold': 3}, 'dark lime': {'light tan': 3}, 'dark orange': {'drab orange': 4}, 'faded black': {'dotted chartreuse': 4, 'wavy silver': 4, 'plaid olive': 5, 'pale blue': 2}, 'dull purple': {'clear gold': 1, 'wavy lavender': 5}, 'dotted gold': {'pale purple': 3, 'dark olive': 1, 'wavy beige': 5, 'mirrored aqua': 2}, 'pale bronze': {'shiny tomato': 2, 'vibrant turquoise': 5}, 'bright aqua': {'pale teal': 1, 'faded coral': 4, 'clear olive': 2}, 'faded beige': {'wavy yellow': 5, 'pale lavender': 3, 'vibrant coral': 1}, 'drab turquoise': {'shiny tomato': 1, 'clear lavender': 3, 'drab orange': 2}, 'light maroon': {'posh bronze': 1, 'dotted silver': 3, 'plaid silver': 1, 'muted teal': 1}, 'posh maroon': {'mirrored maroon': 1, 'posh black': 1, 'faded salmon': 3, 'posh gray': 4}, 'bright red': {'vibrant salmon': 2}, 'vibrant purple': {'faded violet': 2}, 'vibrant crimson': {'plaid yellow': 3, 'dotted yellow': 3, 'pale tan': 2}, 'dim green': {'faded plum': 3, 'posh turquoise': 4, 'muted aqua': 4}, 'striped gray': {'striped fuchsia': 1}, 'light salmon': {'dim coral': 5, 'posh brown': 5, 'shiny green': 3, 'striped beige': 4}, 'bright violet': {'dim maroon': 5, 'dark tan': 5, 'drab purple': 3, 'muted cyan': 2}, 'dotted chartreuse': {'posh lime': 2}, 'drab silver': {'dim coral': 1, 'pale chartreuse': 3, 'light salmon': 1}, 'mirrored lime': {'light orange': 4, 'clear orange': 1, 'wavy plum': 3}, 'muted violet': {'faded silver': 5, 'posh red': 4, 'drab aqua': 2}, 'dull salmon': {'dull maroon': 2, 'mirrored red': 3}, 'posh aqua': {'dim turquoise': 5, 'drab green': 5, 'striped red': 2}, 'muted white': {'light yellow': 3, 'pale yellow': 3, 'dull olive': 2}, 'wavy coral': {'wavy lime': 3, 'faded purple': 5, 'posh gray': 5, 'dark tomato': 4}, 'dark silver': {'dull chartreuse': 1, 'dull violet': 2}, 'dotted plum': {'mirrored violet': 1, 'dim crimson': 3, 'mirrored fuchsia': 1, 'light tan': 1}, 'mirrored purple': {'muted lime': 2, 'mirrored teal': 4, 'light tomato': 2}, 'drab yellow': {'drab violet': 4, 'striped orange': 3}, 'striped teal': {'muted cyan': 3, 'light fuchsia': 1}, 'drab red': {'faded coral': 2, 'bright crimson': 1}, 'pale orange': {'dull chartreuse': 4, 'clear orange': 4}, 'posh gold': {'faded gray': 2, 'striped indigo': 5}, 'light crimson': {}, 'muted red': {'dim gray': 5}, 'clear cyan': {'faded salmon': 5, 'light brown': 4, 'muted purple': 3, 'striped beige': 5}, 'plaid cyan': {'clear yellow': 2, 'shiny gray': 4, 'pale green': 5, 'posh aqua': 1}, 'clear brown': {'faded lime': 4, 'dull bronze': 2, 'clear bronze': 2}, 'light tan': {'light bronze': 3, 'drab orange': 4}, 'dim indigo': {'shiny fuchsia': 4}, 'muted black': {'pale fuchsia': 4, 'bright maroon': 3, 'striped lavender': 3}, 'faded gray': {'wavy plum': 3, 'wavy magenta': 1, 'clear lavender': 1}, 'mirrored magenta': {'clear blue': 4}, 'dark aqua': {'vibrant blue': 1, 'pale aqua': 3}, 'dim lavender': {'clear magenta': 1, 'drab blue': 3}, 'bright gray': {'dull olive': 1, 'plaid lime': 1, 'clear blue': 5}, 'posh teal': {'pale yellow': 4}, 'pale plum': {'bright fuchsia': 2, 'dotted white': 3, 'pale crimson': 5}, 'mirrored bronze': {'faded yellow': 1}, 'dull plum': {'shiny coral': 4, 'posh turquoise': 3, 'muted teal': 2}, 'plaid silver': {'vibrant black': 4, 'dull olive': 4}, 'dull violet': {'vibrant magenta': 1, 'faded salmon': 3, 'mirrored aqua': 1, 'light crimson': 4}, 'dim yellow': {'clear coral': 5, 'striped white': 2, 'clear maroon': 5}, 'drab orange': {'dull white': 4, 'plaid magenta': 1, 'dull lavender': 2, 'dim cyan': 4}, 'wavy maroon': {'dull violet': 3, 'pale brown': 1, 'vibrant magenta': 5, 'mirrored aqua': 5}, 'wavy turquoise': {'wavy crimson': 5, 'posh plum': 1, 'faded turquoise': 4, 'striped cyan': 5}, 'clear yellow': {'faded purple': 2, 'plaid lime': 2, 'clear violet': 4, 'drab magenta': 4}, 'muted crimson': {'vibrant orange': 1}, 'drab violet': {'pale lavender': 2, 'light yellow': 2}, 'dull cyan': {'dim coral': 5, 'posh orange': 1, 'striped beige': 3}, 'shiny fuchsia': {'bright lime': 5, 'muted aqua': 5, 'dark teal': 5, 'faded indigo': 5}, 'pale chartreuse': {'dark plum': 4, 'clear gold': 5, 'wavy blue': 2, 'dim coral': 3}, 'dim orange': {'vibrant coral': 1, 'clear gold': 1}, 'shiny tan': {'plaid tan': 4}, 'dull bronze': {'dotted lavender': 5, 'wavy plum': 2}, 'muted bronze': {'striped white': 3}, 'wavy magenta': {'posh lime': 3, 'wavy plum': 3, 'bright chartreuse': 5}, 'muted cyan': {'pale yellow': 1, 'wavy maroon': 5, 'shiny gold': 5}, 'shiny beige': {'posh chartreuse': 5, 'muted indigo': 3, 'wavy plum': 3}, 'vibrant brown': {'shiny green': 2, 'pale purple': 2, 'posh gray': 3}, 'dim blue': {'clear silver': 4, 'muted blue': 4, 'clear lavender': 2}, 'posh chartreuse': {'wavy magenta': 2}, 'dim magenta': {'faded coral': 3}, 'plaid coral': {'drab gray': 2, 'dark orange': 4, 'dim cyan': 2}, 'dim coral': {'shiny salmon': 1, 'wavy plum': 3, 'light yellow': 1, 'light purple': 4}, 'clear violet': {'plaid olive': 5, 'mirrored violet': 5, 'muted lavender': 3, 'clear indigo': 2}, 'striped coral': {'dim fuchsia': 3, 'vibrant yellow': 5, 'vibrant plum': 4, 'mirrored turquoise': 1}, 'striped gold': {'vibrant blue': 5, 'pale blue': 4, 'drab beige': 1, 'dotted olive': 3}, 'dark beige': {'wavy gray': 1}, 'plaid red': {'faded gray': 2, 'muted olive': 5, 'dark silver': 3}, 'dark purple': {'clear maroon': 4, 'dark green': 3}, 'dull yellow': {'vibrant white': 3, 'dull indigo': 5, 'dotted teal': 4}, 'faded magenta': {'dark violet': 2, 'light indigo': 4}, 'pale green': {'striped fuchsia': 4}, 'faded blue': {'pale chartreuse': 5, 'plaid indigo': 5, 'posh fuchsia': 5}, 'dim brown': {'dim magenta': 4}, 'pale turquoise': {'bright salmon': 3, 'wavy yellow': 3}, 'dark coral': {'faded beige': 2, 'posh gold': 3, 'muted cyan': 2, 'dim lime': 3}, 'striped tan': {'vibrant bronze': 3}, 'drab gold': {'faded cyan': 1}, 'dotted green': {'dim green': 1, 'wavy red': 4}, 'mirrored salmon': {'posh gray': 1}, 'mirrored olive': {'dotted gold': 1, 'vibrant red': 2}, 'shiny blue': {'clear yellow': 2}, 'dotted white': {'wavy blue': 1, 'striped beige': 2, 'vibrant black': 3, 'striped fuchsia': 5}, 'dotted silver': {'dull violet': 4, 'clear magenta': 3}, 'muted lime': {'bright fuchsia': 5, 'dim violet': 4}, 'dim white': {'wavy plum': 4, 'clear coral': 4, 'faded lime': 5}, 'striped blue': {'striped violet': 2, 'clear lime': 5, 'muted tan': 4}, 'dotted fuchsia': {'pale blue': 3, 'wavy blue': 5, 'faded maroon': 2}, 'dark white': {'posh fuchsia': 4, 'dim cyan': 5}, 'pale violet': {'plaid fuchsia': 5}, 'muted aqua': {'mirrored tomato': 3, 'dim bronze': 2, 'pale purple': 1, 'mirrored aqua': 5}, 'wavy lime': {'vibrant green': 1, 'striped tomato': 3, 'dotted beige': 5, 'dark plum': 5}, 'dark salmon': {'faded plum': 3, 'pale blue': 3, 'mirrored red': 1, 'striped gold': 3}, 'dotted salmon': {'pale crimson': 5, 'dark white': 3, 'mirrored beige': 2, 'shiny salmon': 2}, 'vibrant white': {'dark brown': 4, 'faded plum': 1, 'plaid red': 1, 'dotted lime': 1}, 'muted brown': {'plaid violet': 3}, 'striped red': {'plaid bronze': 4, 'bright orange': 5}, 'vibrant teal': {'dull olive': 4, 'shiny aqua': 1, 'muted olive': 2}, 'drab green': {'muted olive': 2}, 'light blue': {'muted cyan': 1, 'pale teal': 4, 'dotted white': 5, 'posh gray': 3}, 'light gold': {'wavy black': 4, 'wavy gray': 5, 'pale teal': 4, 'pale violet': 4}, 'posh violet': {'shiny magenta': 5, 'dark white': 4, 'posh lime': 4, 'plaid silver': 4}, 'striped silver': {'pale crimson': 3, 'posh lime': 4, 'dim bronze': 3}, 'dull tomato': {'plaid lime': 4, 'striped lavender': 3, 'clear turquoise': 4, 'dull lime': 3}, 'dull blue': {'muted tan': 2, 'posh brown': 4, 'vibrant beige': 2}, 'light magenta': {'drab salmon': 5, 'bright red': 1}, 'dotted teal': {'pale yellow': 2, 'posh red': 3, 'drab aqua': 2, 'muted indigo': 1}, 'light beige': {'drab fuchsia': 1}, 'muted fuchsia': {'shiny cyan': 2, 'bright chartreuse': 4, 'striped indigo': 2}, 'muted gray': {'vibrant brown': 2, 'clear violet': 5}, 'bright maroon': {'dark indigo': 4, 'plaid olive': 5}, 'wavy tomato': {'vibrant gray': 3}, 'dim purple': {'dull lime': 3}, 'mirrored blue': {'pale aqua': 3}, 'drab crimson': {'muted brown': 2, 'faded fuchsia': 1}, 'muted turquoise': {'dull olive': 1, 'dull silver': 5, 'vibrant gray': 1, 'plaid violet': 4}, 'posh lime': {'pale purple': 1, 'vibrant black': 1, 'clear green': 3}, 'light lavender': {'vibrant lime': 5, 'light coral': 1}, 'striped maroon': {'wavy yellow': 3, 'faded silver': 3, 'dim olive': 5, 'muted tan': 3}, 'shiny olive': {'bright olive': 2}, 'mirrored fuchsia': {'dim gray': 3}, 'drab blue': {'light salmon': 2, 'muted olive': 3, 'dark black': 1}, 'drab magenta': {'light yellow': 4, 'muted aqua': 2, 'vibrant magenta': 5, 'vibrant silver': 4}, 'light cyan': {'dull chartreuse': 1, 'dim bronze': 1}, 'plaid lime': {'muted white': 1, 'striped fuchsia': 2, 'vibrant gray': 5}, 'wavy tan': {'dotted beige': 4, 'striped cyan': 4, 'light salmon': 4, 'shiny gray': 2}, 'faded yellow': {'bright teal': 1, 'striped salmon': 1, 'striped plum': 4, 'drab orange': 5}, 'shiny silver': {'vibrant green': 2}, 'mirrored aqua': {'vibrant black': 4, 'faded coral': 2, 'bright tomato': 1, 'pale purple': 1}, 'dark tomato': {'drab beige': 4, 'bright gray': 5, 'shiny teal': 5, 'pale blue': 1}, 'pale coral': {'striped orange': 5, 'muted red': 4}, 'mirrored coral': {'plaid olive': 4, 'faded indigo': 1}, 'shiny violet': {'bright tomato': 5}, 'posh beige': {'dim brown': 2}, 'dull crimson': {'mirrored chartreuse': 3, 'shiny teal': 1, 'shiny cyan': 3}, 'drab lavender': {'shiny tomato': 1, 'posh cyan': 5}, 'clear lavender': {'bright fuchsia': 1, 'pale crimson': 1}, 'wavy fuchsia': {'wavy tomato': 5, 'wavy bronze': 5, 'mirrored tomato': 5}, 'faded turquoise': {'muted crimson': 3, 'pale crimson': 3, 'drab gray': 4, 'dull white': 1}, 'pale blue': {'shiny gold': 1, 'dull silver': 5, 'posh lime': 5}, 'dim beige': {'vibrant red': 1}, 'bright tomato': {'dull olive': 2, 'dim crimson': 1, 'faded salmon': 5}, 'pale gold': {'dark blue': 2}, 'muted tomato': {'mirrored blue': 5, 'dull crimson': 1, 'mirrored cyan': 4, 'wavy blue': 4}, 'wavy beige': {'wavy lime': 2, 'dotted salmon': 3}, 'dotted violet': {'bright orange': 5, 'posh olive': 5, 'dark violet': 3}, 'vibrant black': {'bright chartreuse': 4}, 'light olive': {'dotted yellow': 1, 'shiny coral': 5, 'drab green': 1, 'vibrant lime': 2}, 'plaid crimson': {'shiny fuchsia': 3}, 'mirrored yellow': {'shiny red': 1, 'muted lime': 2}, 'pale tan': {'pale crimson': 2, 'pale green': 4}, 'pale yellow': {'clear maroon': 1, 'wavy silver': 5, 'faded purple': 4, 'faded plum': 4}, 'mirrored silver': {'pale lavender': 5, 'clear orange': 5, 'faded lime': 4}, 'drab tomato': {'dull lavender': 2}, 'drab bronze': {'shiny indigo': 5, 'pale purple': 3}, 'muted salmon': {'clear green': 2, 'faded coral': 4, 'faded salmon': 1}, 'posh brown': {'vibrant magenta': 2, 'muted salmon': 1}, 'striped magenta': {'shiny white': 2}, 'drab teal': {'vibrant red': 1, 'striped violet': 5, 'muted olive': 1}, 'mirrored red': {'bright chartreuse': 4}, 'muted magenta': {'dotted blue': 4, 'light bronze': 2}, 'clear orange': {'striped cyan': 4}, 'dotted maroon': {'plaid olive': 1}, 'mirrored white': {'shiny tomato': 1, 'plaid lime': 1}, 'mirrored tomato': {'pale brown': 5, 'clear green': 4, 'mirrored chartreuse': 4}, 'bright magenta': {'bright salmon': 3, 'posh fuchsia': 4, 'dotted tan': 3}, 'plaid salmon': {'bright white': 2, 'mirrored lime': 5}, 'pale black': {'faded tomato': 2, 'dotted brown': 3, 'faded turquoise': 2}, 'posh gray': {'mirrored chartreuse': 2}, 'muted beige': {'posh lime': 3, 'wavy plum': 5, 'light crimson': 2, 'pale purple': 2}, 'pale red': {'pale beige': 3, 'vibrant yellow': 2}, 'bright indigo': {'mirrored violet': 5, 'mirrored tomato': 4, 'clear lavender': 3, 'muted gold': 1}, 'shiny teal': {}, 'drab plum': {'mirrored chartreuse': 5, 'light brown': 1}, 'clear tomato': {'faded coral': 4}, 'light aqua': {'bright fuchsia': 5, 'posh red': 4, 'light gray': 2, 'bright tomato': 2}, 'shiny tomato': {'muted turquoise': 5}, 'dull olive': {}, 'dim chartreuse': {'posh aqua': 4}, 'bright turquoise': {'pale olive': 4}, 'pale aqua': {'muted aqua': 3, 'shiny plum': 5, 'striped indigo': 3, 'pale blue': 5}, 'shiny indigo': {'posh tan': 1, 'dotted teal': 3}, 'faded salmon': {}, 'dark magenta': {'striped plum': 2, 'dull brown': 1, 'wavy tan': 2, 'faded olive': 2}, 'vibrant silver': {'wavy tomato': 5, 'dull chartreuse': 3, 'posh lime': 3, 'dull violet': 2}, 'wavy violet': {'dim crimson': 1, 'drab white': 5, 'drab purple': 2}, 'dull green': {'posh red': 1, 'shiny teal': 5}, 'posh tan': {'pale yellow': 4, 'dim beige': 1, 'shiny tomato': 1}, 'shiny purple': {'shiny lavender': 4, 'plaid violet': 2, 'drab beige': 2, 'pale blue': 2}, 'plaid lavender': {'faded purple': 3, 'wavy purple': 1}, 'dotted lime': {'muted white': 5, 'posh olive': 2, 'pale crimson': 2, 'dark plum': 5}, 'shiny brown': {'pale tan': 3, 'shiny green': 5, 'vibrant brown': 4}, 'clear gold': {'striped plum': 4, 'bright fuchsia': 1, 'faded salmon': 3}, 'drab cyan': {'muted purple': 2, 'dull aqua': 2, 'shiny gray': 3}, 'dark violet': {'plaid salmon': 1, 'vibrant salmon': 3}, 'shiny aqua': {'mirrored tomato': 3}, 'dotted blue': {'clear white': 3, 'dull chartreuse': 4, 'light cyan': 2}, 'dull beige': {'vibrant red': 2, 'muted olive': 5}, 'wavy blue': {'dark brown': 2}, 'wavy aqua': {'wavy teal': 4, 'muted maroon': 5, 'faded gray': 3, 'plaid blue': 5}, 'dull brown': {'posh olive': 5, 'striped violet': 2, 'mirrored lime': 4}, 'striped salmon': {'faded coral': 4, 'vibrant blue': 5, 'shiny magenta': 4, 'plaid red': 3}, 'mirrored maroon': {'mirrored lime': 1, 'wavy salmon': 2, 'wavy cyan': 2}, 'clear magenta': {'vibrant black': 1, 'vibrant coral': 3}, 'clear salmon': {'bright plum': 5, 'light beige': 5, 'plaid aqua': 2}, 'bright yellow': {'striped green': 5, 'muted violet': 3}, 'dim crimson': {'dull olive': 4, 'faded coral': 1, 'clear green': 3, 'pale purple': 4}, 'light violet': {'shiny indigo': 2, 'clear maroon': 1, 'dull blue': 2}, 'drab coral': {'posh blue': 2, 'dim lime': 1, 'shiny turquoise': 3, 'faded fuchsia': 3}, 'plaid bronze': {'vibrant teal': 2}, 'dull magenta': {'dull tan': 4, 'plaid yellow': 4, 'dim turquoise': 2}, 'plaid tan': {'mirrored maroon': 1, 'muted maroon': 5}, 'shiny maroon': {'shiny coral': 1, 'dotted tomato': 5}, 'faded bronze': {'bright purple': 5, 'vibrant tomato': 4}, 'pale magenta': {'vibrant green': 3, 'dotted olive': 3}, 'dark blue': {'dull gray': 3}, 'dim teal': {'dotted plum': 1, 'faded olive': 3, 'dotted orange': 4}, 'faded crimson': {'vibrant violet': 3, 'wavy plum': 4, 'wavy coral': 1, 'vibrant lime': 1}, 'dotted black': {'striped purple': 2}, 'mirrored indigo': {'wavy cyan': 4, 'dull gold': 3, 'dull lime': 1}, 'muted lavender': {'striped silver': 5, 'posh brown': 2}, 'mirrored lavender': {'pale lime': 1, 'drab olive': 2, 'wavy green': 1}, 'drab lime': {'faded plum': 2, 'muted purple': 3, 'faded teal': 1, 'vibrant plum': 2}, 'bright blue': {'drab aqua': 3, 'striped tomato': 4}, 'drab purple': {'faded purple': 2, 'shiny turquoise': 4, 'dark black': 5, 'pale plum': 1}, 'mirrored chartreuse': {'clear green': 4}, 'wavy gold': {'plaid olive': 1, 'drab teal': 5, 'dotted salmon': 5, 'dull tan': 2}, 'shiny green': {'dim crimson': 1, 'dotted olive': 1}, 'plaid tomato': {'clear gold': 1}, 'striped chartreuse': {'muted lavender': 5, 'plaid white': 5}, 'vibrant violet': {'shiny cyan': 1, 'drab magenta': 5, 'drab olive': 5}, 'vibrant gray': {'vibrant black': 2, 'pale purple': 5}, 'striped plum': {'mirrored chartreuse': 1}, 'mirrored brown': {'light plum': 5, 'dark blue': 2, 'shiny aqua': 5, 'vibrant turquoise': 3}, 'posh crimson': {'striped orange': 4, 'wavy salmon': 3, 'dull cyan': 4}, 'plaid purple': {'dotted beige': 1, 'shiny teal': 4, 'wavy magenta': 4, 'pale chartreuse': 5}, 'clear purple': {'faded purple': 1}, 'plaid brown': {'light brown': 5, 'drab fuchsia': 5, 'clear bronze': 1, 'dark black': 2}, 'dim violet': {'bright lavender': 2, 'muted indigo': 4, 'bright white': 1}, 'plaid fuchsia': {'muted olive': 3, 'clear olive': 2}, 'posh white': {'dull aqua': 3, 'striped silver': 2}, 'dotted gray': {'vibrant orange': 2, 'muted salmon': 3}, 'clear silver': {'faded indigo': 1, 'dim violet': 1}, 'dull fuchsia': {'vibrant turquoise': 1}, 'shiny lime': {'wavy teal': 2, 'clear blue': 1}, 'bright gold': {'dotted gray': 2, 'dark yellow': 3, 'light yellow': 3, 'faded maroon': 4}, 'dark teal': {'light crimson': 5, 'clear orange': 5, 'vibrant magenta': 4}, 'drab black': {'clear green': 3}, 'light silver': {'clear black': 2}, 'striped cyan': {'clear lavender': 4, 'faded salmon': 1, 'faded plum': 4, 'shiny teal': 3}, 'plaid yellow': {'shiny teal': 5}, 'mirrored turquoise': {'dull chartreuse': 1}, 'shiny yellow': {'dotted crimson': 5}, 'vibrant yellow': {'striped beige': 2, 'dark white': 5}, 'faded violet': {'drab tan': 4}, 'plaid orange': {'dim crimson': 2, 'faded cyan': 1, 'mirrored cyan': 4, 'bright indigo': 1}, 'muted coral': {'faded lime': 2, 'plaid blue': 1, 'posh white': 5}, 'faded lime': {'wavy lavender': 5, 'muted green': 5, 'shiny beige': 3, 'wavy lime': 4}, 'pale crimson': {'mirrored chartreuse': 3}, 'dull teal': {'clear blue': 4, 'mirrored red': 2, 'posh turquoise': 4, 'drab black': 2}, 'clear teal': {'clear brown': 4, 'mirrored fuchsia': 4}, 'drab fuchsia': {'mirrored black': 2, 'plaid silver': 5, 'drab tan': 4}, 'dotted purple': {'faded red': 5, 'dull bronze': 5}, 'mirrored cyan': {'clear green': 4, 'muted cyan': 5, 'dull violet': 3, 'vibrant yellow': 5}, 'pale white': {'vibrant green': 1, 'wavy magenta': 2, 'dotted olive': 5, 'drab magenta': 5}, 'faded red': {'posh turquoise': 5, 'dotted gold': 3, 'light salmon': 5, 'faded bronze': 5}, 'posh plum': {'shiny brown': 1, 'vibrant silver': 2, 'bright beige': 1, 'clear maroon': 1}, 'dotted tan': {'pale bronze': 2, 'drab tan': 3}, 'dark cyan': {'wavy fuchsia': 5, 'posh beige': 3}, 'clear gray': {'muted silver': 2, 'drab violet': 4}, 'faded aqua': {'vibrant green': 5, 'dim crimson': 3}, 'vibrant indigo': {'drab violet': 1, 'dull gray': 3, 'wavy lavender': 4, 'shiny fuchsia': 2}, 'posh red': {'clear magenta': 1, 'pale bronze': 2}, 'clear turquoise': {'plaid magenta': 1, 'dotted tan': 4}, 'mirrored plum': {'plaid purple': 3, 'dull bronze': 3, 'pale olive': 3}, 'bright salmon': {'mirrored chartreuse': 2, 'pale brown': 3, 'faded plum': 5, 'striped cyan': 1}, 'clear black': {'mirrored fuchsia': 4, 'dim bronze': 5, 'drab violet': 2}, 'striped indigo': {'vibrant black': 1, 'striped fuchsia': 1, 'shiny gray': 4, 'clear orange': 5}, 'wavy teal': {'striped lime': 4}, 'striped white': {'wavy lime': 4, 'clear magenta': 3, 'dull lavender': 3}, 'clear fuchsia': {'faded brown': 2, 'shiny coral': 3, 'vibrant blue': 1, 'posh silver': 1}, 'muted blue': {'pale fuchsia': 3, 'posh fuchsia': 5, 'dim magenta': 2, 'wavy lavender': 1}, 'pale brown': {}, 'posh fuchsia': {'dim crimson': 2, 'dull chartreuse': 5, 'dim bronze': 4, 'vibrant orange': 5}, 'wavy salmon': {'vibrant black': 4}, 'clear aqua': {'clear tan': 2, 'dim gray': 3, 'bright lavender': 1}, 'light green': {'dim tan': 5, 'shiny chartreuse': 3, 'bright crimson': 4}, 'wavy yellow': {'pale brown': 4}, 'dull indigo': {'plaid lime': 3, 'wavy silver': 5, 'vibrant coral': 4, 'mirrored tomato': 3}, 'dim plum': {'dotted magenta': 4, 'dim crimson': 5, 'wavy blue': 3, 'mirrored black': 4}, 'dull gold': {'bright lavender': 5, 'vibrant magenta': 2, 'dull lavender': 4}, 'plaid plum': {'muted cyan': 2, 'shiny purple': 3, 'drab olive': 2}, 'pale lavender': {'vibrant magenta': 1, 'mirrored violet': 3, 'vibrant green': 1, 'faded purple': 2}, 'drab indigo': {'vibrant lavender': 1, 'drab aqua': 4}, 'dotted olive': {'faded plum': 3, 'wavy plum': 5, 'pale brown': 1}, 'dotted beige': {'bright tomato': 5, 'pale purple': 4, 'dim crimson': 4, 'dull gold': 4}, 'clear coral': {'dark teal': 1, 'bright purple': 2, 'clear blue': 4, 'pale orange': 4}, 'light bronze': {'muted cyan': 4, 'posh brown': 2}, 'dull red': {'vibrant red': 2, 'muted gold': 1, 'clear coral': 2}, 'mirrored black': {'dull olive': 2}, 'shiny cyan': {'mirrored aqua': 1, 'bright tomato': 3, 'striped indigo': 5}, 'light purple': {'bright salmon': 3, 'vibrant black': 5, 'clear orange': 2, 'plaid olive': 4}, 'dark lavender': {'dark turquoise': 3, 'dotted black': 2}, 'vibrant bronze': {'wavy olive': 3}, 'vibrant salmon': {'dull olive': 3, 'bright silver': 4, 'muted green': 3}, 'pale lime': {'wavy yellow': 1, 'dark tomato': 4, 'faded aqua': 5, 'muted beige': 4}, 'plaid gray': {'wavy yellow': 2, 'drab turquoise': 5, 'dim gray': 3}, 'mirrored green': {'dull cyan': 5}, 'dim tan': {'dotted teal': 5, 'clear yellow': 2, 'posh maroon': 1}, 'pale indigo': {'striped indigo': 5, 'clear indigo': 5, 'drab tan': 1}, 'mirrored violet': {'muted salmon': 2, 'dull violet': 3}, 'pale salmon': {'mirrored cyan': 1, 'pale gray': 4, 'mirrored fuchsia': 3, 'striped beige': 1}, 'plaid olive': {'dark brown': 3}, 'clear white': {'plaid violet': 4, 'dull lavender': 4}, 'posh yellow': {'light gray': 5, 'clear green': 3, 'mirrored cyan': 3, 'plaid yellow': 2}, 'bright purple': {'mirrored cyan': 1, 'dim magenta': 4, 'dotted olive': 2, 'posh tan': 1}, 'dark gray': {'dim turquoise': 3, 'mirrored tomato': 3}, 'shiny chartreuse': {'dark brown': 1, 'mirrored magenta': 2, 'bright silver': 1, 'shiny gray': 5}, 'dull silver': {'dull chartreuse': 3, 'dull violet': 2, 'muted aqua': 4}, 'clear lime': {'dull silver': 4}, 'faded lavender': {'pale tan': 1, 'clear turquoise': 2, 'muted green': 3, 'muted lime': 1}, 'light white': {'mirrored gold': 1, 'dotted gold': 1, 'pale beige': 3}, 'posh olive': {'mirrored aqua': 3, 'shiny cyan': 2}, 'striped olive': {'vibrant tomato': 1, 'dotted salmon': 3, 'plaid purple': 3, 'dim brown': 2}, 'vibrant gold': {'light plum': 4}, 'faded gold': {'shiny green': 5, 'drab orange': 4, 'faded beige': 5, 'dark blue': 5}, 'faded silver': {'drab blue': 4}, 'drab gray': {'pale gray': 1}, 'posh indigo': {'vibrant teal': 1, 'vibrant aqua': 1}, 'mirrored crimson': {'mirrored turquoise': 5, 'mirrored aqua': 4, 'wavy olive': 3, 'dark teal': 1}, 'dark olive': {'dim violet': 4, 'dotted silver': 2, 'dull crimson': 2, 'striped fuchsia': 1}, 'bright tan': {'shiny violet': 5, 'light gray': 5}, 'pale olive': {'faded black': 3, 'dim aqua': 1}, 'drab tan': {'faded plum': 2, 'posh fuchsia': 2, 'wavy blue': 2, 'dotted lavender': 5}, 'striped purple': {'posh gray': 4, 'shiny plum': 1, 'mirrored crimson': 1, 'plaid orange': 2}, 'dotted magenta': {'dull cyan': 4, 'bright cyan': 1}, 'faded white': {'dark tomato': 2, 'muted silver': 2}, 'pale cyan': {'light tan': 3, 'dotted brown': 3, 'vibrant aqua': 3, 'drab gray': 3}, 'vibrant tan': {'striped gold': 5, 'dull gray': 5, 'bright turquoise': 2, 'muted blue': 3}, 'dark crimson': {'vibrant magenta': 4, 'striped aqua': 2, 'muted tan': 1, 'vibrant green': 3}, 'dotted red': {'dull green': 1, 'pale green': 3, 'pale tomato': 5, 'light coral': 2}, 'dim gold': {'dark black': 3, 'dotted lavender': 5, 'faded gray': 2, 'dim beige': 5}, 'faded chartreuse': {'clear aqua': 1, 'mirrored black': 2, 'striped coral': 1}, 'dark gold': {'drab coral': 1, 'dark teal': 3}, 'light fuchsia': {'faded salmon': 4, 'shiny gray': 4}, 'posh blue': {'mirrored tomato': 2, 'drab blue': 1, 'drab tomato': 4, 'dotted lavender': 5}, 'plaid green': {'light cyan': 5, 'dim turquoise': 3, 'drab teal': 1}, 'faded tomato': {'muted blue': 4, 'striped lime': 1}, 'clear olive': {'dull silver': 2, 'vibrant yellow': 2, 'pale purple': 1, 'wavy lavender': 2}, 'shiny gold': {'muted aqua': 2, 'bright salmon': 3, 'striped violet': 4, 'posh brown': 2}, 'clear beige': {'faded plum': 5, 'dull lavender': 3}, 'pale fuchsia': {'wavy lavender': 2, 'striped indigo': 2, 'posh gold': 2}, 'wavy silver': {'wavy plum': 4, 'shiny salmon': 1}, 'dotted yellow': {'striped plum': 3, 'wavy coral': 5}, 'dotted crimson': {'dotted silver': 1}, 'muted olive': {'mirrored tomato': 5}, 'vibrant blue': {'clear blue': 1, 'mirrored lime': 2, 'dull aqua': 2}, 'shiny white': {'pale purple': 3}, 'clear chartreuse': {'dotted lavender': 4, 'mirrored cyan': 3}, 'faded green': {'plaid lime': 4, 'vibrant olive': 4, 'dark green': 3, 'shiny lime': 4}, 'plaid violet': {'striped silver': 1, 'bright chartreuse': 2}, 'clear green': {}, 'vibrant plum': {'clear green': 5, 'shiny teal': 2}, 'bright olive': {'light plum': 5, 'drab beige': 4}, 'striped beige': {'wavy silver': 5, 'shiny teal': 1, 'light gray': 3}, 'faded plum': {'clear green': 3, 'mirrored chartreuse': 5, 'dim bronze': 1, 'faded coral': 1}, 'mirrored tan': {'bright indigo': 3, 'light yellow': 1, 'muted aqua': 2, 'muted beige': 2}, 'bright black': {'pale blue': 5, 'bright coral': 4, 'wavy plum': 2, 'posh lime': 2}, 'striped aqua': {'muted lavender': 5, 'pale blue': 1, 'vibrant gray': 5}, 'dull chartreuse': {'vibrant black': 1, 'faded salmon': 4}, 'wavy gray': {'dull gray': 3, 'light blue': 3, 'pale teal': 4}, 'dim tomato': {'mirrored chartreuse': 3}, 'bright orange': {'dull indigo': 2, 'plaid violet': 5, 'light crimson': 2, 'wavy salmon': 2}, 'wavy crimson': {'dotted maroon': 3, 'vibrant lime': 1, 'pale indigo': 2, 'striped aqua': 1}, 'dim lime': {'mirrored magenta': 5, 'plaid beige': 2}, 'posh magenta': {'dull violet': 5, 'wavy gray': 3}, 'vibrant lavender': {'muted violet': 4, 'clear crimson': 3}, 'mirrored gray': {'light crimson': 5, 'dull cyan': 5}, 'dark indigo': {'dark turquoise': 3, 'mirrored turquoise': 5}, 'muted silver': {'dim coral': 2, 'dotted olive': 1}, 'shiny black': {'muted salmon': 1, 'faded silver': 2}, 'faded indigo': {'vibrant gray': 4, 'wavy salmon': 1, 'bright indigo': 3}, 'dim aqua': {'drab aqua': 1, 'dotted beige': 4, 'faded coral': 4}, 'bright plum': {'drab olive': 4, 'dim crimson': 5, 'vibrant green': 1}, 'light indigo': {'mirrored chartreuse': 5}, 'posh purple': {'plaid magenta': 4, 'pale purple': 3}, 'wavy bronze': {'muted aqua': 4}, 'pale gray': {'clear orange': 5, 'bright lavender': 1, 'muted salmon': 4}, 'clear bronze': {'light black': 4, 'drab aqua': 2}, 'wavy green': {'muted lavender': 1, 'light yellow': 1, 'wavy olive': 1}, 'bright brown': {'dotted black': 1, 'plaid magenta': 1, 'posh olive': 4}, 'vibrant green': {'bright cyan': 5, 'mirrored lime': 3, 'mirrored tan': 5}, 'dull orange': {'posh chartreuse': 2}, 'dotted lavender': {'vibrant gray': 5, 'plaid silver': 4}, 'dim maroon': {'pale chartreuse': 2, 'striped beige': 4, 'shiny gold': 2}, 'shiny turquoise': {'light orange': 2}, 'striped brown': {'muted brown': 5, 'dotted bronze': 4, 'striped plum': 5, 'striped green': 5}, 'plaid magenta': {'faded salmon': 5, 'dark black': 5, 'muted indigo': 5, 'pale blue': 4}, 'faded cyan': {'muted lavender': 5, 'bright fuchsia': 1, 'mirrored tomato': 1}, 'muted yellow': {'drab salmon': 1, 'mirrored cyan': 5, 'drab coral': 5}, 'bright teal': {'dotted lime': 4, 'plaid magenta': 2, 'mirrored tomato': 3, 'striped cyan': 5}, 'wavy indigo': {'dotted silver': 3, 'clear brown': 4, 'posh gray': 3, 'dull red': 1}, 'striped tomato': {'dotted olive': 1}, 'dim olive': {'dotted indigo': 1, 'dotted lime': 2, 'muted silver': 2}, 'plaid black': {'dim green': 3, 'posh bronze': 1, 'wavy orange': 2, 'muted gold': 1}, 'dark red': {'dotted beige': 1, 'dotted olive': 5, 'drab turquoise': 1, 'light tan': 1}, 'light red': {'muted lavender': 1, 'muted teal': 1, 'bright white': 5, 'dotted fuchsia': 4}, 'posh coral': {'posh silver': 5, 'vibrant olive': 1}, 'wavy lavender': {'bright indigo': 3, 'dim bronze': 4}, 'striped lavender': {'striped tomato': 1}, 'wavy cyan': {'shiny salmon': 2, 'drab aqua': 4, 'faded coral': 4, 'dotted olive': 1}, 'light brown': {'faded gray': 2, 'dark brown': 5}, 'dark black': {'posh brown': 2}, 'dark tan': {'striped cyan': 1, 'plaid salmon': 3}, 'muted maroon': {'bright bronze': 4, 'dotted lavender': 3, 'pale fuchsia': 4, 'vibrant red': 1}, 'faded fuchsia': {'light purple': 5, 'dim gray': 3}, 'shiny bronze': {'mirrored magenta': 3, 'light aqua': 3, 'drab plum': 3, 'vibrant salmon': 1}, 'light gray': {'striped fuchsia': 1, 'shiny gold': 1, 'clear gold': 3, 'bright fuchsia': 3}, 'dim turquoise': {'dull aqua': 5}, 'faded coral': {}, 'dark maroon': {'dark turquoise': 1, 'light fuchsia': 4, 'shiny plum': 5}, 'striped black': {'faded tomato': 2, 'vibrant turquoise': 1, 'muted bronze': 4}, 'plaid gold': {'wavy aqua': 4, 'vibrant white': 4}, 'dim gray': {'wavy silver': 5}, 'wavy brown': {'bright bronze': 3, 'dotted gray': 2}, 'bright fuchsia': {'mirrored aqua': 2, 'shiny green': 4, 'vibrant black': 5, 'bright tomato': 1}, 'dark chartreuse': {'shiny white': 5, 'dotted salmon': 4, 'shiny purple': 5, 'faded red': 5}, 'dark plum': {'clear gold': 2, 'pale gray': 2}, 'dull maroon': {'mirrored chartreuse': 2, 'clear orange': 1, 'mirrored black': 4, 'clear violet': 5}, 'plaid maroon': {'bright purple': 3, 'bright red': 3, 'faded purple': 3}, 'dull coral': {'drab gray': 5, 'dotted chartreuse': 2}, 'shiny coral': {'vibrant black': 3, 'bright chartreuse': 4, 'faded indigo': 3}, 'clear crimson': {'drab tomato': 1, 'mirrored white': 4, 'dim violet': 2}, 'drab aqua': {'dull chartreuse': 2, 'pale crimson': 1, 'posh lime': 4}, 'vibrant aqua': {'wavy cyan': 1}, 'striped fuchsia': {'bright tomato': 5, 'wavy plum': 2, 'faded plum': 2, 'clear green': 4}, 'shiny plum': {'posh red': 2, 'faded plum': 3, 'striped beige': 2, 'mirrored turquoise': 1}, 'muted purple': {'bright white': 5, 'dotted chartreuse': 4, 'drab black': 1}, 'posh bronze': {'muted cyan': 3, 'faded coral': 4, 'wavy plum': 3}, 'light turquoise': {'mirrored silver': 4, 'bright gray': 2, 'mirrored maroon': 5}, 'vibrant fuchsia': {'faded tomato': 5, 'posh fuchsia': 1, 'posh maroon': 3, 'plaid salmon': 1}, 'muted orange': {'striped gray': 1, 'dull bronze': 2, 'dull silver': 1}, 'dotted cyan': {'clear olive': 4}, 'dull gray': {'mirrored maroon': 5, 'dim coral': 4, 'muted olive': 2}, 'clear red': {'dark fuchsia': 3, 'mirrored fuchsia': 4}, 'clear indigo': {'muted salmon': 4}, 'striped green': {'dull maroon': 4}, 'vibrant chartreuse': {'muted aqua': 1, 'clear lime': 5}, 'mirrored beige': {'dark teal': 3}, 'vibrant lime': {'plaid fuchsia': 4}, 'dotted brown': {'bright gray': 3, 'wavy yellow': 5, 'muted maroon': 1}, 'striped lime': {'muted lavender': 3}, 'vibrant magenta': {'faded coral': 4, 'dim bronze': 1}, 'drab olive': {'shiny indigo': 3, 'dim lime': 1}, 'dotted orange': {'muted white': 5, 'striped gray': 3}, 'bright lavender': {'faded purple': 4, 'bright chartreuse': 1}, 'pale maroon': {'vibrant gray': 5, 'shiny red': 4, 'drab aqua': 3, 'wavy tan': 4}, 'dotted aqua': {'mirrored lime': 1}, 'wavy orange': {'dull green': 3, 'light lavender': 4}, 'faded maroon': {'vibrant gray': 3, 'muted lavender': 2}, 'dim silver': {'dotted chartreuse': 2, 'clear violet': 4, 'clear red': 2}, 'dull turquoise': {'faded olive': 5, 'drab magenta': 3}, 'shiny red': {'clear tan': 4, 'dull red': 2, 'dark tomato': 5}, 'posh orange': {'muted lavender': 4, 'dim violet': 5, 'striped aqua': 5}, 'plaid white': {'mirrored cyan': 5, 'light brown': 2, 'muted tan': 3}, 'shiny magenta': {'faded coral': 3, 'posh gray': 5}, 'bright bronze': {'wavy blue': 4, 'clear violet': 2}, 'mirrored orange': {'dim green': 2, 'striped red': 2, 'drab plum': 4, 'pale teal': 1}}\n"
     ]
    }
   ],
   "source": [
    "bag_rules = {} \n",
    "\n",
    "with open('input.txt') as rules:\n",
    "    for rule in rules:\n",
    "        # light tomato bags contain 5 muted green bags, 2 striped tomato bags, 4 faded aqua bags, 2 muted salmon bags.\n",
    "        # x1 x2 bags contain N a1 a2 bags, N b1 b2 bags, ...\n",
    "        tokens = rule.split()\n",
    "        main_bag = tokens[0] + ' ' + tokens[1]\n",
    "        \n",
    "        rule = {}\n",
    "        for i in range(4, len(tokens), 4):\n",
    "            if tokens[i] == 'no': continue\n",
    "            rule[tokens[i+1] + ' ' + tokens[i+2]] = int(tokens[i])\n",
    "            \n",
    "        bag_rules[main_bag] = rule\n",
    "        \n",
    "print(bag_rules)"
   ]
  },
  {
   "cell_type": "code",
   "execution_count": 42,
   "metadata": {},
   "outputs": [
    {
     "name": "stdout",
     "output_type": "stream",
     "text": [
      "wavy indigo ⟼ dull red ⟼ clear coral ⟼ clear blue ⟼ shiny gold\n",
      "muted cyan ⟼ shiny gold\n",
      "dark turquoise ⟼ posh yellow ⟼ light gray ⟼ shiny gold\n",
      "dim blue ⟼ clear silver ⟼ dim violet ⟼ bright white ⟼ pale blue ⟼ shiny gold\n",
      "striped gold ⟼ vibrant blue ⟼ clear blue CACHE\n",
      "posh yellow CACHE\n",
      "striped gold CACHE\n",
      "wavy white CACHE\n",
      "vibrant fuchsia ⟼ plaid salmon ⟼ bright white CACHE\n",
      "shiny gold\n",
      "pale blue CACHE\n",
      "bright black ⟼ pale blue CACHE\n",
      "shiny gold\n",
      "mirrored magenta ⟼ clear blue CACHE\n",
      "drab coral ⟼ dim lime ⟼ mirrored magenta CACHE\n",
      "light tan ⟼ light bronze ⟼ muted cyan CACHE\n",
      "posh bronze ⟼ muted cyan CACHE\n",
      "dim maroon ⟼ shiny gold\n",
      "muted cyan CACHE\n",
      "light bronze CACHE\n",
      "clear blue CACHE\n",
      "vibrant blue CACHE\n",
      "clear coral CACHE\n",
      "shiny gold\n",
      "clear silver CACHE\n",
      "vibrant blue CACHE\n",
      "wavy gray ⟼ light blue ⟼ muted cyan CACHE\n",
      "dark violet ⟼ plaid salmon CACHE\n",
      "pale blue CACHE\n",
      "pale blue CACHE\n",
      "muted cyan CACHE\n",
      "dark indigo ⟼ dark turquoise CACHE\n",
      "shiny gold\n",
      "bright white CACHE\n",
      "muted purple ⟼ bright white CACHE\n",
      "plaid salmon CACHE\n",
      "bright plum ⟼ drab olive ⟼ dim lime CACHE\n",
      "dim lime CACHE\n",
      "drab olive CACHE\n",
      "muted purple CACHE\n",
      "bright white CACHE\n",
      "dim violet CACHE\n",
      "clear blue CACHE\n",
      "faded brown CACHE\n",
      "shiny chartreuse ⟼ mirrored magenta CACHE\n",
      "muted cyan CACHE\n",
      "muted cyan CACHE\n",
      "dark turquoise CACHE\n",
      "light gray CACHE\n",
      "mirrored magenta CACHE\n",
      "mirrored gold CACHE\n",
      "dim violet CACHE\n",
      "light tan CACHE\n",
      "striped gold CACHE\n",
      "drab coral CACHE\n",
      "clear blue CACHE\n",
      "pale blue CACHE\n",
      "mirrored magenta CACHE\n",
      "dark turquoise CACHE\n",
      "drab olive CACHE\n",
      "shiny gold\n",
      "drab coral CACHE\n",
      "dotted indigo CACHE\n",
      "mirrored magenta CACHE\n",
      "shiny gold\n",
      "dark turquoise CACHE\n",
      "dim violet CACHE\n",
      "bright white CACHE\n",
      "muted cyan CACHE\n",
      "dark fuchsia CACHE\n",
      "dim lime CACHE\n",
      "71\n",
      "594\n",
      "359\n"
     ]
    }
   ],
   "source": [
    "# traverse to find gold\n",
    "contains_gold = {}\n",
    "\n",
    "def traverse_rule(key):\n",
    "    rule = bag_rules[key]\n",
    "        \n",
    "    if len(rule) == 0:\n",
    "        contains_gold[key] = False\n",
    "        return False, ''\n",
    "    \n",
    "    if 'shiny gold' in rule:\n",
    "        contains_gold[key] = True\n",
    "        return True, 'shiny gold'\n",
    "    \n",
    "    for bag in rule:\n",
    "        if bag in contains_gold:\n",
    "            if contains_gold[bag]:\n",
    "                contains_gold[key] = True\n",
    "                return True, bag + ' CACHE'\n",
    "            \n",
    "    for bag in rule:\n",
    "        result, path = traverse_rule(bag)\n",
    "        if result:\n",
    "            contains_gold[key] = True\n",
    "            return True, key + ' ↦ '\n",
    "    \n",
    "    return False, ''\n",
    "\n",
    "gold_count = 0\n",
    "for key, value in bag_rules.items():\n",
    "    #print('Traverse ' + key)\n",
    "    result, path = traverse_rule(key)\n",
    "    if path: print(path)\n",
    "    if result: gold_count+=1\n",
    "    \n",
    "print(gold_count)\n",
    "print(len(bag_rules))\n",
    "print(len(contains_gold))"
   ]
  },
  {
   "cell_type": "markdown",
   "metadata": {},
   "source": [
    "## Part 2"
   ]
  },
  {
   "cell_type": "code",
   "execution_count": 34,
   "metadata": {},
   "outputs": [
    {
     "name": "stdout",
     "output_type": "stream",
     "text": [
      "mirrored chartreuse contains 4 bags\n",
      "mirrored tomato contains 29 bags\n",
      "vibrant black contains 4 bags\n",
      "dim crimson contains 12 bags\n",
      "bright tomato contains 20 bags\n",
      "mirrored aqua contains 44 bags\n",
      "muted aqua contains 318 bags\n",
      "faded plum contains 30 bags\n",
      "wavy plum contains 9 bags\n",
      "dotted olive contains 144 bags\n",
      "shiny green contains 158 bags\n",
      "bright fuchsia contains 772 bags\n",
      "pale crimson contains 15 bags\n",
      "clear lavender contains 789 bags\n",
      "striped cyan contains 3288 bags\n",
      "bright salmon contains 3457 bags\n",
      "striped violet contains 63 bags\n",
      "vibrant magenta contains 5 bags\n",
      "muted salmon contains 7 bags\n",
      "posh brown contains 20 bags\n",
      "shiny gold contains 11310 bags\n"
     ]
    },
    {
     "data": {
      "text/plain": [
       "11310"
      ]
     },
     "execution_count": 34,
     "metadata": {},
     "output_type": "execute_result"
    }
   ],
   "source": [
    "internal_count = {}\n",
    "\n",
    "def traverse_count(key):\n",
    "    rule = bag_rules[key]\n",
    "        \n",
    "    if len(rule) == 0: \n",
    "        internal_count[key] = 0\n",
    "        return 0\n",
    "    \n",
    "    total = 0\n",
    "    for bag in rule:\n",
    "        total += rule[bag]\n",
    "        if bag in internal_count:\n",
    "            total += internal_count[bag] * rule[bag]\n",
    "        else:\n",
    "            total += traverse_count(bag) * rule[bag]\n",
    "        \n",
    "    internal_count[key] = total\n",
    "    print(key, 'contains', total, 'bags')\n",
    "    return total\n",
    "\n",
    "traverse_count('shiny gold')"
   ]
  }
 ],
 "metadata": {
  "kernelspec": {
   "display_name": "Python 3",
   "language": "python",
   "name": "python3"
  },
  "language_info": {
   "codemirror_mode": {
    "name": "ipython",
    "version": 3
   },
   "file_extension": ".py",
   "mimetype": "text/x-python",
   "name": "python",
   "nbconvert_exporter": "python",
   "pygments_lexer": "ipython3",
   "version": "3.7.7"
  }
 },
 "nbformat": 4,
 "nbformat_minor": 4
}
