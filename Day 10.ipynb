{
 "cells": [
  {
   "cell_type": "markdown",
   "metadata": {},
   "source": [
    "## Part 1"
   ]
  },
  {
   "cell_type": "code",
   "execution_count": 1,
   "metadata": {},
   "outputs": [],
   "source": [
    "import numpy as np"
   ]
  },
  {
   "cell_type": "code",
   "execution_count": 2,
   "metadata": {},
   "outputs": [
    {
     "data": {
      "text/plain": [
       "98"
      ]
     },
     "execution_count": 2,
     "metadata": {},
     "output_type": "execute_result"
    }
   ],
   "source": [
    "adaptors = np.loadtxt('input.txt', dtype=int)\n",
    "adaptors = np.sort(adaptors)\n",
    "len(adaptors)"
   ]
  },
  {
   "cell_type": "code",
   "execution_count": 3,
   "metadata": {},
   "outputs": [
    {
     "name": "stdout",
     "output_type": "stream",
     "text": [
      "2070\n"
     ]
    }
   ],
   "source": [
    "counts = [0, 0, 0, 0]\n",
    "\n",
    "for i, a in enumerate(adaptors):\n",
    "    prev_adaptor = adaptors[i-1] if i > 0 else 0\n",
    "    jump = a - prev_adaptor\n",
    "    counts[jump] += 1\n",
    "\n",
    "# highest to built-in\n",
    "counts[3] += 1\n",
    "print(counts[1] * counts[3])"
   ]
  },
  {
   "cell_type": "markdown",
   "metadata": {},
   "source": [
    "## Part 2"
   ]
  },
  {
   "cell_type": "code",
   "execution_count": 4,
   "metadata": {},
   "outputs": [
    {
     "name": "stdout",
     "output_type": "stream",
     "text": [
      "[2, 1, 4, 7, 2, 1, 7, 7, 7, 1, 1, 4, 1, 4, 1, 1, 7, 4, 1, 4, 4, 7, 1, 4, 4, 7, 4, 4, 1, 7]\n",
      "24179327893504\n"
     ]
    }
   ],
   "source": [
    "arr = [0, 1, 2, 3, 4]\n",
    "distances = [1, 2, 3]\n",
    "\n",
    "def traverse(i, arr, distances):\n",
    "    if len(arr) < 2: return 1\n",
    "    count = 0\n",
    "    for d in distances:\n",
    "        value = i + d \n",
    "        if value == arr[-1]:\n",
    "            #print('{} → {}'.format(i, value))\n",
    "            count += 1\n",
    "        elif value in arr:\n",
    "            #print('{}'.format(i), end='')\n",
    "            count += traverse(value, arr, distances)\n",
    "            \n",
    "    return count\n",
    "\n",
    "def count_permutations(arr, distances):\n",
    "    segments = []\n",
    "    permutations = []\n",
    "    \n",
    "    sample = [0, 1, 2, 3, 4, 5]\n",
    "    for i in range(0, 7):\n",
    "        permutations.append(traverse(0, sample[:i], distances))\n",
    "        \n",
    "    segment = [0]\n",
    "    for b in arr:\n",
    "        if b - segment[-1] == 1:\n",
    "            segment.append(b)\n",
    "        elif b - segment[-1] == 3:\n",
    "            segments.append(segment)\n",
    "            segment = [b]\n",
    "    \n",
    "    segments.append(segment)\n",
    "    segment_permutations = [permutations[len(segment)] for segment in segments]\n",
    "        \n",
    "    return segment_permutations\n",
    "\n",
    "s_p = count_permutations(adaptors, [1, 2, 3])\n",
    "print(s_p)\n",
    "print(np.prod(s_p))"
   ]
  }
 ],
 "metadata": {
  "kernelspec": {
   "display_name": "Python 3",
   "language": "python",
   "name": "python3"
  },
  "language_info": {
   "codemirror_mode": {
    "name": "ipython",
    "version": 3
   },
   "file_extension": ".py",
   "mimetype": "text/x-python",
   "name": "python",
   "nbconvert_exporter": "python",
   "pygments_lexer": "ipython3",
   "version": "3.7.7"
  }
 },
 "nbformat": 4,
 "nbformat_minor": 4
}
