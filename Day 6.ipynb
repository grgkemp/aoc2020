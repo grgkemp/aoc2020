{
 "cells": [
  {
   "cell_type": "markdown",
   "metadata": {},
   "source": [
    "## Part 1 "
   ]
  },
  {
   "cell_type": "code",
   "execution_count": 17,
   "metadata": {},
   "outputs": [
    {
     "name": "stdout",
     "output_type": "stream",
     "text": [
      "6335\n"
     ]
    }
   ],
   "source": [
    "total = 0\n",
    "group = []\n",
    "\n",
    "def count_unique(arr):\n",
    "    return len(set(arr))\n",
    "\n",
    "with open('input.txt') as lines:\n",
    "    for l in lines:\n",
    "        line = l.strip()\n",
    "        if line == '':\n",
    "            total += count_unique(group)\n",
    "            group = []\n",
    "        else:\n",
    "            for char in line:\n",
    "                group.append(char)\n",
    "    total += count_unique(group)\n",
    "                \n",
    "print(total)"
   ]
  },
  {
   "cell_type": "markdown",
   "metadata": {},
   "source": [
    "## Part 2"
   ]
  },
  {
   "cell_type": "code",
   "execution_count": 23,
   "metadata": {},
   "outputs": [
    {
     "name": "stdout",
     "output_type": "stream",
     "text": [
      "3392\n"
     ]
    }
   ],
   "source": [
    "total = 0\n",
    "group = []\n",
    "\n",
    "def count_in_common(arrays):\n",
    "    count = 0\n",
    "    for char in arrays[0]:\n",
    "        found = True\n",
    "        for arr in arrays[1:]:\n",
    "            if not char in arr:\n",
    "                found = False\n",
    "                continue\n",
    "        if (found): count += 1\n",
    "    return count\n",
    "\n",
    "with open('input.txt') as lines:\n",
    "    for l in lines:\n",
    "        line = l.strip()\n",
    "        if line == '':\n",
    "            total += count_in_common(group)\n",
    "            group = []\n",
    "        else:\n",
    "            group.append(list(line))\n",
    "    total += count_in_common(group)\n",
    "                \n",
    "print(total)"
   ]
  }
 ],
 "metadata": {
  "kernelspec": {
   "display_name": "Python 3",
   "language": "python",
   "name": "python3"
  },
  "language_info": {
   "codemirror_mode": {
    "name": "ipython",
    "version": 3
   },
   "file_extension": ".py",
   "mimetype": "text/x-python",
   "name": "python",
   "nbconvert_exporter": "python",
   "pygments_lexer": "ipython3",
   "version": "3.7.7"
  }
 },
 "nbformat": 4,
 "nbformat_minor": 4
}
