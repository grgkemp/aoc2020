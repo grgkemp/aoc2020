{
 "cells": [
  {
   "cell_type": "markdown",
   "metadata": {},
   "source": [
    "## Part 1"
   ]
  },
  {
   "cell_type": "code",
   "execution_count": 1,
   "metadata": {},
   "outputs": [],
   "source": [
    "import re\n",
    "validation = {}\n",
    "my_ticket = []\n",
    "tickets = []\n",
    "\n",
    "with open('input.txt') as lines:\n",
    "    for line in lines:\n",
    "        if len(line.strip()) == 0:\n",
    "            continue\n",
    "        elif 'or' in line:\n",
    "            segments = line.split(':')\n",
    "            # departure track: 40-420 or 446-973\n",
    "            name = segments[0]\n",
    "            numbers = list(map(int, re.findall(r\"[0-9]+\", segments[1])))\n",
    "            validation[name] = numbers\n",
    "        elif line[0].isdigit():\n",
    "            if len(my_ticket) == 0:\n",
    "                my_ticket = list(map(int, line.split(',')))\n",
    "            else:\n",
    "                tickets.append(list(map(int, line.split(','))))"
   ]
  },
  {
   "cell_type": "code",
   "execution_count": 2,
   "metadata": {},
   "outputs": [],
   "source": [
    "def validate(validation, x):\n",
    "      return (x >= validation[0] and x <= validation[1]) or (x >= validation[2] and x <= validation[3])"
   ]
  },
  {
   "cell_type": "code",
   "execution_count": 3,
   "metadata": {},
   "outputs": [
    {
     "name": "stdout",
     "output_type": "stream",
     "text": [
      "30869\n"
     ]
    }
   ],
   "source": [
    "tse_rate = 0\n",
    "\n",
    "for ticket in tickets:\n",
    "    for value in ticket:\n",
    "        if not any(validate(v, value) for name, v in validation.items()):\n",
    "            tse_rate += value\n",
    "            \n",
    "print(tse_rate)"
   ]
  },
  {
   "cell_type": "markdown",
   "metadata": {},
   "source": [
    "## Part 2"
   ]
  },
  {
   "cell_type": "code",
   "execution_count": 4,
   "metadata": {},
   "outputs": [
    {
     "name": "stdout",
     "output_type": "stream",
     "text": [
      "242\n",
      "52\n",
      "190\n"
     ]
    }
   ],
   "source": [
    "invalid_tickets = []\n",
    "\n",
    "for ticket in tickets:\n",
    "    for value in ticket:\n",
    "        if not any(validate(v, value) for name, v in validation.items()):\n",
    "            invalid_tickets.append(ticket)\n",
    "            break\n",
    "            \n",
    "print(len(tickets))\n",
    "print(len(invalid_tickets))\n",
    "            \n",
    "valid_tickets = list(filter(lambda v: v not in invalid_tickets, tickets))\n",
    "print(len(valid_tickets))"
   ]
  },
  {
   "cell_type": "code",
   "execution_count": 5,
   "metadata": {
    "scrolled": false
   },
   "outputs": [
    {
     "name": "stdout",
     "output_type": "stream",
     "text": [
      "16 can only be 'type'!\n",
      " 7 can only be 'zone'!\n",
      " 5 can only be 'class'!\n",
      " 2 can only be 'arrival station'!\n",
      "15 can only be 'row'!\n",
      "14 can only be 'price'!\n",
      " 6 can only be 'route'!\n",
      " 0 can only be 'departure date'!\n",
      "19 can only be 'departure time'!\n",
      "17 can only be 'departure location'!\n",
      "11 can only be 'departure track'!\n",
      " 8 can only be 'departure station'!\n",
      "10 can only be 'departure platform'!\n",
      " 9 can only be 'arrival platform'!\n",
      " 1 can only be 'arrival track'!\n",
      " 4 can only be 'duration'!\n",
      " 3 can only be 'arrival location'!\n",
      "13 can only be 'wagon'!\n",
      "12 can only be 'seat'!\n",
      "18 can only be 'train'!\n",
      "4381476149273\n"
     ]
    }
   ],
   "source": [
    "ticket_fields = []\n",
    "resolved = []\n",
    "for i in range(20):\n",
    "    index = [name for name in validation.keys()]\n",
    "    ticket_fields.append(index)\n",
    "\n",
    "for ticket in valid_tickets:\n",
    "    for index, value in enumerate(ticket):\n",
    "        validity_arr = [name if not validate(v, value) else None for name, v in validation.items()]\n",
    "        for name in validity_arr:\n",
    "            if name != None:\n",
    "                if name in ticket_fields[index]:\n",
    "                    ticket_fields[index].remove(name)\n",
    "                    #print(\"{:2d} != '{}' because {}\".format(index, name, value))\n",
    "for i in range(20):                  \n",
    "    for index, field in enumerate(ticket_fields):\n",
    "        if len(field) == 1 and not field in resolved:\n",
    "            # this field must be 'name', collapse wave form\n",
    "            name = field[0]\n",
    "            print(\"{:2d} can only be '{}'!\".format(index, name))\n",
    "            for field_b in ticket_fields:\n",
    "                if field_b != field and name in field_b:\n",
    "                    field_b.remove(name)\n",
    "            resolved.append(field)\n",
    "\n",
    "result = 1\n",
    "for index, field in enumerate(ticket_fields): \n",
    "    if field[0].startswith('departure'):\n",
    "        result *= my_ticket[index]\n",
    "        \n",
    "print(result)"
   ]
  }
 ],
 "metadata": {
  "kernelspec": {
   "display_name": "Python 3",
   "language": "python",
   "name": "python3"
  },
  "language_info": {
   "codemirror_mode": {
    "name": "ipython",
    "version": 3
   },
   "file_extension": ".py",
   "mimetype": "text/x-python",
   "name": "python",
   "nbconvert_exporter": "python",
   "pygments_lexer": "ipython3",
   "version": "3.7.7"
  }
 },
 "nbformat": 4,
 "nbformat_minor": 4
}
