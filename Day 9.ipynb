{
 "cells": [
  {
   "cell_type": "markdown",
   "metadata": {},
   "source": [
    "## Part 1"
   ]
  },
  {
   "cell_type": "code",
   "execution_count": 1,
   "metadata": {},
   "outputs": [],
   "source": [
    "import numpy as np"
   ]
  },
  {
   "cell_type": "code",
   "execution_count": 9,
   "metadata": {},
   "outputs": [
    {
     "name": "stdout",
     "output_type": "stream",
     "text": [
      "1000 = 25 + 975\n"
     ]
    }
   ],
   "source": [
    "lines = np.loadtxt('input.txt', dtype=int)\n",
    "preamble = lines[:25]\n",
    "data = lines[25:]\n",
    "print('{} = {} + {}'.format(len(lines), len(preamble), len(data)))"
   ]
  },
  {
   "cell_type": "code",
   "execution_count": 24,
   "metadata": {},
   "outputs": [
    {
     "name": "stdout",
     "output_type": "stream",
     "text": [
      "SUM NOT FOUND\n",
      "258585477\n",
      "[198951344 142219629 334444190 143337370 170580391 175989076 151349978\n",
      " 153807661 171356265 173038074 195995363 383468540 280165437 526805910\n",
      " 422385066 245188606 226969276 250016879 259493145 261509426 371989418\n",
      " 396538584 284838237 285556999 472157882]\n"
     ]
    }
   ],
   "source": [
    "window = 25\n",
    "        \n",
    "for index, number in enumerate(lines[25:]):\n",
    "    preamble = lines[index:index+window]\n",
    "    sumdict = {}\n",
    "    found = False\n",
    "    \n",
    "    for a in preamble:\n",
    "        if a in sumdict:\n",
    "            found = True\n",
    "            break\n",
    "        else:\n",
    "            sumdict[number-a] = a\n",
    "    \n",
    "    if not found:\n",
    "        print('SUM NOT FOUND')\n",
    "        print(number)\n",
    "        print(preamble)\n",
    "        break"
   ]
  },
  {
   "cell_type": "markdown",
   "metadata": {},
   "source": [
    "## Part 2"
   ]
  },
  {
   "cell_type": "code",
   "execution_count": 54,
   "metadata": {},
   "outputs": [
    {
     "name": "stdout",
     "output_type": "stream",
     "text": [
      "[479 496] : dist 0.00\n"
     ]
    }
   ],
   "source": [
    "number = 258585477\n",
    "a = 0\n",
    "b = len(lines)-1\n",
    "pc = 0\n",
    "positions = [[a, b]]\n",
    "while(sum(lines[a:b]) != number):\n",
    "    value = sum(lines[a:b])\n",
    "    difference = value - number\n",
    "    #print('[{} {}] : dist {:#.3g}'.format(a, b, difference))\n",
    "    \n",
    "    if value > number:\n",
    "        if lines[b] > number:\n",
    "            b += -1\n",
    "        elif lines[a] <= difference:\n",
    "            a += 1\n",
    "        else:\n",
    "            b += -1\n",
    "            a = 0\n",
    "    \n",
    "    positions.append([a, b])\n",
    "    \n",
    "print('[{} {}] : dist {:#.3g}'.format(a, b, sum(lines[a:b]) - number))"
   ]
  },
  {
   "cell_type": "code",
   "execution_count": 51,
   "metadata": {},
   "outputs": [
    {
     "name": "stdout",
     "output_type": "stream",
     "text": [
      "258585477\n",
      "36981213\n"
     ]
    }
   ],
   "source": [
    "print(sum(lines[479:496]))\n",
    "print(min(lines[479:496]) + max(lines[479:496]))"
   ]
  }
 ],
 "metadata": {
  "kernelspec": {
   "display_name": "Python 3",
   "language": "python",
   "name": "python3"
  },
  "language_info": {
   "codemirror_mode": {
    "name": "ipython",
    "version": 3
   },
   "file_extension": ".py",
   "mimetype": "text/x-python",
   "name": "python",
   "nbconvert_exporter": "python",
   "pygments_lexer": "ipython3",
   "version": "3.7.7"
  }
 },
 "nbformat": 4,
 "nbformat_minor": 4
}
