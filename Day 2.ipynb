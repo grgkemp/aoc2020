{
 "cells": [
  {
   "cell_type": "code",
   "execution_count": 9,
   "metadata": {},
   "outputs": [],
   "source": [
    "def get_limits(x_y):\n",
    "    segments = x_y.split('-')\n",
    "    return int(segments[0]), int(segments[1])"
   ]
  },
  {
   "cell_type": "markdown",
   "metadata": {},
   "source": [
    "### Part 1"
   ]
  },
  {
   "cell_type": "code",
   "execution_count": 15,
   "metadata": {},
   "outputs": [
    {
     "name": "stdout",
     "output_type": "stream",
     "text": [
      "[(2, 4, 'f', 'cfkmf', 2), (1, 6, 'd', 'cmhdnw', 1), (4, 5, 'v', 'tvsgqvvv', 4), (5, 7, 'n', 'nnncngdnznjx', 6), (3, 4, 'x', 'pcnxgxx', 3)]\n",
      "378\n"
     ]
    }
   ],
   "source": [
    "passed_words = []\n",
    "\n",
    "with open(\"input.txt\") as f:\n",
    "    for line in f:\n",
    "        segments = line.split()\n",
    "        # 0 = x-y\n",
    "        # 1 = CHAR:\n",
    "        # 2 = password string\n",
    "        \n",
    "        x, y = get_limits(segments[0])\n",
    "        char = segments[1][0]\n",
    "        password = segments[2]\n",
    "        \n",
    "        count = 0\n",
    "        for letter in password:\n",
    "            if char == letter:\n",
    "                count += 1\n",
    "        \n",
    "        if count >= x and count <= y:\n",
    "            passed_words.append((x, y, char, password, count))\n",
    "            \n",
    "print(passed_words[:5])\n",
    "print(len(passed_words))"
   ]
  },
  {
   "cell_type": "markdown",
   "metadata": {},
   "source": [
    "### Part 2"
   ]
  },
  {
   "cell_type": "code",
   "execution_count": 20,
   "metadata": {},
   "outputs": [
    {
     "name": "stdout",
     "output_type": "stream",
     "text": [
      "[(2, 4, 'f', 'cfkmf', 0), (5, 7, 'n', 'nnncngdnznjx', 0), (1, 4, 'v', 'vvvzqvzvvvvv', 0), (3, 4, 'x', 'pcnxgxx', 0), (4, 10, 'w', 'fkswkgwwhpjfcg', 0)]\n",
      "280\n"
     ]
    }
   ],
   "source": [
    "passed_words = []\n",
    "\n",
    "with open(\"input.txt\") as f:\n",
    "    for line in f:\n",
    "        segments = line.split()\n",
    "        # 0 = x-y\n",
    "        # 1 = CHAR:\n",
    "        # 2 = password string\n",
    "        \n",
    "        x, y = get_limits(segments[0])\n",
    "        char = segments[1][0]\n",
    "        password = segments[2]\n",
    "        \n",
    "        if (password[y-1] == char) ^ (password[x-1] == char):\n",
    "            passed_words.append((x, y, char, password, count))\n",
    "            \n",
    "print(passed_words[:5])\n",
    "print(len(passed_words))"
   ]
  }
 ],
 "metadata": {
  "kernelspec": {
   "display_name": "Python 3",
   "language": "python",
   "name": "python3"
  },
  "language_info": {
   "codemirror_mode": {
    "name": "ipython",
    "version": 3
   },
   "file_extension": ".py",
   "mimetype": "text/x-python",
   "name": "python",
   "nbconvert_exporter": "python",
   "pygments_lexer": "ipython3",
   "version": "3.7.7"
  }
 },
 "nbformat": 4,
 "nbformat_minor": 4
}
