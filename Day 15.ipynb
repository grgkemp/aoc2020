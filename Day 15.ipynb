{
 "cells": [
  {
   "cell_type": "markdown",
   "metadata": {},
   "source": [
    "## Part 1"
   ]
  },
  {
   "cell_type": "code",
   "execution_count": 20,
   "metadata": {},
   "outputs": [
    {
     "name": "stdout",
     "output_type": "stream",
     "text": [
      "9 129 980 0 4 23 43 377 1592 0 6 33 249 "
     ]
    }
   ],
   "source": [
    "def say_next(history):\n",
    "    last = history[-1]\n",
    "    if history.count(last) > 1:\n",
    "        count = 1\n",
    "        for h in history[::-1][1:]:\n",
    "            if h == last: return count\n",
    "            else: count += 1\n",
    "    else:\n",
    "        return 0\n",
    "    \n",
    "history = [15,12,0,14,3,1]\n",
    "for i in range(2020 - len(history)):\n",
    "    next_call = say_next(history)\n",
    "    if i > 2000 : print(next_call, end=' ')\n",
    "    history.append(next_call)"
   ]
  },
  {
   "cell_type": "markdown",
   "metadata": {},
   "source": [
    "## Part 2"
   ]
  },
  {
   "cell_type": "code",
   "execution_count": null,
   "metadata": {},
   "outputs": [],
   "source": [
    "# 15,12,0,14,3,1\n",
    "history = {15:1, 12:2, 0:3, 14:4, 3:5, 1:6} # number: turn last called\n",
    "\n",
    "def deep_say_next(history, last_call, turn):\n",
    "    if last_call in history:\n",
    "        last_turn = history[last_call]\n",
    "        history[last_call] = turn\n",
    "        return history, turn - last_turn\n",
    "    else:\n",
    "        history[last_call] = turn\n",
    "        return history, 0\n",
    "\n",
    "next_call = 1\n",
    "for turn in range(6, 30000000):\n",
    "    history, next_call = deep_say_next(history, next_call, turn)\n",
    "print(next_call)"
   ]
  }
 ],
 "metadata": {
  "kernelspec": {
   "display_name": "Python 3",
   "language": "python",
   "name": "python3"
  },
  "language_info": {
   "codemirror_mode": {
    "name": "ipython",
    "version": 3
   },
   "file_extension": ".py",
   "mimetype": "text/x-python",
   "name": "python",
   "nbconvert_exporter": "python",
   "pygments_lexer": "ipython3",
   "version": "3.7.7"
  }
 },
 "nbformat": 4,
 "nbformat_minor": 4
}
