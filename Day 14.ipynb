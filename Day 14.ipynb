{
 "cells": [
  {
   "cell_type": "markdown",
   "metadata": {},
   "source": [
    "## Part 1"
   ]
  },
  {
   "cell_type": "code",
   "execution_count": 1,
   "metadata": {},
   "outputs": [
    {
     "data": {
      "text/plain": [
       "5902420735773"
      ]
     },
     "execution_count": 1,
     "metadata": {},
     "output_type": "execute_result"
    }
   ],
   "source": [
    "def reverse(string):\n",
    "    return string[::-1]\n",
    "            \n",
    "def mask_value(mask, integer):\n",
    "    binary = str(bin(integer))[2:][::-1]\n",
    "    output = ''\n",
    "    \n",
    "    for i in range(len(mask)):\n",
    "        if mask[::-1][i] == 'X':\n",
    "            if i < len(binary):\n",
    "                output += binary[i]\n",
    "            else:\n",
    "                output += '0'\n",
    "        else:\n",
    "            output += mask[::-1][i]\n",
    "    \n",
    "    return int('0b' + output[::-1], 2)\n",
    "\n",
    "addresses = {}\n",
    "\n",
    "with open('input.txt') as lines:\n",
    "    mask = None\n",
    "    for line in lines:\n",
    "        if line.startswith('mask'):\n",
    "            mask = line.split(' ')[2].strip()\n",
    "        elif (line.startswith('mem')):\n",
    "            mem = line.split(' ')\n",
    "            address = mem[0][4:-1]\n",
    "            value = mask_value(mask, int(mem[2]))\n",
    "            addresses[address] = value\n",
    "            \n",
    "sum(addresses.values())"
   ]
  },
  {
   "cell_type": "markdown",
   "metadata": {},
   "source": [
    "## Part 2"
   ]
  },
  {
   "cell_type": "code",
   "execution_count": 2,
   "metadata": {},
   "outputs": [
    {
     "data": {
      "text/plain": [
       "[0, 1, 2, 3, 4, 5, 6, 7, 8, 9, 10, 11, 12, 13, 14, 15]"
      ]
     },
     "execution_count": 2,
     "metadata": {},
     "output_type": "execute_result"
    }
   ],
   "source": [
    "def pop_push(output, string):\n",
    "    if len(string):\n",
    "        output += string[0]\n",
    "        return output, string[1:]\n",
    "    else:\n",
    "        return output + '0', ''\n",
    "\n",
    "def generate_addresses(mask, address):\n",
    "    binary = str(bin(address))[2:][::-1]\n",
    "    output = ''\n",
    "    \n",
    "    for i in range(len(mask)):\n",
    "        if mask[::-1][i] == 'X':\n",
    "            output += 'X'\n",
    "        elif mask[::-1][i] == '0':\n",
    "            if i < len(binary):\n",
    "                output += binary[i]\n",
    "            else:\n",
    "                output += '0'\n",
    "        else:\n",
    "            output += '1'\n",
    "            \n",
    "    count = 2 ** output.count('X') -1\n",
    "    addresses = []\n",
    "    \n",
    "    for index in range(count+1):\n",
    "        address = ''\n",
    "        count_binary = str(bin(index))[2:][::-1]\n",
    "        for j in output:\n",
    "            if j == 'X':\n",
    "                address, count_binary = pop_push(address, count_binary)\n",
    "            else:\n",
    "                address += j\n",
    "                \n",
    "        addresses.append(int('0b' + address[::-1], 2))\n",
    "                \n",
    "    \n",
    "    return addresses\n",
    "\n",
    "generate_addresses('XXXX', 7)"
   ]
  },
  {
   "cell_type": "code",
   "execution_count": 3,
   "metadata": {},
   "outputs": [
    {
     "data": {
      "text/plain": [
       "3801988250775"
      ]
     },
     "execution_count": 3,
     "metadata": {},
     "output_type": "execute_result"
    }
   ],
   "source": [
    "addresses = {}\n",
    "\n",
    "with open('input.txt') as lines:\n",
    "    mask = None\n",
    "    for line in lines:\n",
    "        if line.startswith('mask'):\n",
    "            mask = line.split(' ')[2].strip()\n",
    "        elif (line.startswith('mem')):\n",
    "            mem = line.split(' ')\n",
    "            address = int(mem[0][4:-1])\n",
    "            value = int(mem[2])\n",
    "            addresses_to_write = generate_addresses(mask, address)\n",
    "            for add in addresses_to_write: addresses[add] = value\n",
    "\n",
    "sum(addresses.values())"
   ]
  }
 ],
 "metadata": {
  "kernelspec": {
   "display_name": "Python 3",
   "language": "python",
   "name": "python3"
  },
  "language_info": {
   "codemirror_mode": {
    "name": "ipython",
    "version": 3
   },
   "file_extension": ".py",
   "mimetype": "text/x-python",
   "name": "python",
   "nbconvert_exporter": "python",
   "pygments_lexer": "ipython3",
   "version": "3.7.7"
  }
 },
 "nbformat": 4,
 "nbformat_minor": 4
}
