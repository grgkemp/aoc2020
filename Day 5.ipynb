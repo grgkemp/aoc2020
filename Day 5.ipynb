{
 "cells": [
  {
   "cell_type": "markdown",
   "metadata": {},
   "source": [
    "## Part 1"
   ]
  },
  {
   "cell_type": "code",
   "execution_count": 1,
   "metadata": {},
   "outputs": [],
   "source": [
    "import numpy as np"
   ]
  },
  {
   "cell_type": "code",
   "execution_count": 2,
   "metadata": {},
   "outputs": [],
   "source": [
    "lines = np.loadtxt(\"input.txt\", dtype=str)\n",
    "lines[0]\n",
    "rows = np.arange(128)\n",
    "columns = np.arange(8)"
   ]
  },
  {
   "cell_type": "code",
   "execution_count": 3,
   "metadata": {},
   "outputs": [
    {
     "name": "stdout",
     "output_type": "stream",
     "text": [
      "102 4\n",
      "820\n"
     ]
    }
   ],
   "source": [
    "def get_row_col(name):\n",
    "    row_li = 0\n",
    "    row_hi = rows[-1]\n",
    "    column_li = 0\n",
    "    column_hi = columns[-1]\n",
    "    \n",
    "    for c in name:\n",
    "        if c == 'F':\n",
    "            row_hi -= (row_hi - row_li + 1)//2 \n",
    "        elif c == 'B':\n",
    "            row_li += (row_hi - row_li + 1)//2\n",
    "        elif c == 'L':\n",
    "            column_hi -= (column_hi - column_li + 1)//2 \n",
    "        elif c == 'R':\n",
    "            column_li += (column_hi - column_li + 1)//2 \n",
    "\n",
    "    return row_li, row_hi, column_li, column_hi\n",
    "        \n",
    "        \n",
    "row_name = 'BBFFBBFRLL'\n",
    "rl, rh, cl, ch = get_row_col(row_name)\n",
    "print(rl, cl)\n",
    "    \n",
    "print(rl * 8 + cl)"
   ]
  },
  {
   "cell_type": "code",
   "execution_count": 4,
   "metadata": {},
   "outputs": [
    {
     "name": "stdout",
     "output_type": "stream",
     "text": [
      "978\n",
      "['BBBBFBFLRL', 122, 122, 2, 2]\n"
     ]
    }
   ],
   "source": [
    "max_v = 0\n",
    "\n",
    "for line in lines: \n",
    "    rl, rh, cl, ch = get_row_col(line)\n",
    "    value = rl * 8 + cl\n",
    "    if (value > max_v):\n",
    "        max_v = value\n",
    "        details = [line, rl, rh, cl, ch]\n",
    "        \n",
    "print(max_v)\n",
    "print(details)"
   ]
  },
  {
   "cell_type": "markdown",
   "metadata": {},
   "source": [
    "## Part 2"
   ]
  },
  {
   "cell_type": "code",
   "execution_count": 5,
   "metadata": {},
   "outputs": [],
   "source": [
    "ids = []\n",
    "\n",
    "for line in lines: \n",
    "    rl, rh, cl, ch = get_row_col(line)\n",
    "    value = rl * 8 + cl\n",
    "    ids.append(value)"
   ]
  },
  {
   "cell_type": "code",
   "execution_count": 6,
   "metadata": {},
   "outputs": [
    {
     "name": "stdout",
     "output_type": "stream",
     "text": [
      "725 726 728\n",
      "726 728 729\n"
     ]
    }
   ],
   "source": [
    "ids = np.sort(ids)\n",
    "for i in np.arange(1, len(ids)-1):\n",
    "    if not ids[i] - ids[i-1] == 1 or not ids[i+1] - ids[i] == 1:\n",
    "        print(ids[i-1], ids[i], ids[i+1])"
   ]
  }
 ],
 "metadata": {
  "kernelspec": {
   "display_name": "Python 3",
   "language": "python",
   "name": "python3"
  },
  "language_info": {
   "codemirror_mode": {
    "name": "ipython",
    "version": 3
   },
   "file_extension": ".py",
   "mimetype": "text/x-python",
   "name": "python",
   "nbconvert_exporter": "python",
   "pygments_lexer": "ipython3",
   "version": "3.7.7"
  }
 },
 "nbformat": 4,
 "nbformat_minor": 4
}
